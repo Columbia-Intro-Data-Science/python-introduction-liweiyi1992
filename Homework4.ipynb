{
 "cells": [
  {
   "cell_type": "markdown",
   "metadata": {},
   "source": [
    "## Homework 4\n",
    "  ### Weiyi Li wl2485\n"
   ]
  },
  {
   "cell_type": "markdown",
   "metadata": {},
   "source": [
    "### Questions 1\n",
    "“Give a count of all videos currently out”:"
   ]
  },
  {
   "cell_type": "markdown",
   "metadata": {},
   "source": [
    "SQL Code:\n",
    "```SQL\n",
    "SELECT count(customer_id)\n",
    "FROM rental\n",
    "WHERE return_date is NULL\n",
    "```"
   ]
  },
  {
   "cell_type": "markdown",
   "metadata": {},
   "source": [
    "Result:\n",
    "![caption](files/Q1.png)"
   ]
  },
  {
   "cell_type": "markdown",
   "metadata": {},
   "source": [
    "### Questions 3\n",
    "“Give the most popular actors by store location”:\n"
   ]
  },
  {
   "cell_type": "markdown",
   "metadata": {},
   "source": [
    "SQL Code:\n",
    "```SQL\n",
    "SELECT a.first_name,a.last_name,a.Actor_id, a.Store_id,a.address AS Store_location,a.Count AS Number_of_rentals_of_his_films FROM (\n",
    "SELECT actor.first_name,actor.last_name,film_actor.actor_id,inventory.store_id,count(rental.rental_id) , address.address FROM rental\n",
    "INNER JOIN inventory ON inventory.inventory_id = rental.inventory_id\n",
    "INNER JOIN film_actor ON inventory.film_id = film_actor.film_id\n",
    "INNER JOIN actor ON actor.actor_id = film_actor.actor_id\n",
    "INNER JOIN store ON store.store_id = inventory.store_id\n",
    "INNER JOIN address ON store.address_id = address.address_id\n",
    "GROUP BY actor.first_name, actor.last_name, film_actor.actor_id, inventory.store_id, address.address ) AS a\n",
    "where  a.Count=(select max(b.Count)  from (\n",
    "SELECT film_actor.actor_id,inventory.store_id,count(rental.rental_id) FROM rental\n",
    "INNER JOIN inventory ON inventory.inventory_id = rental.inventory_id\n",
    "INNER JOIN film_actor ON inventory.film_id = film_actor.film_id\n",
    "GROUP BY film_actor.actor_id,inventory.store_id \n",
    ") as b  \n",
    "where a.Store_id = b.Store_id );  \n",
    "```"
   ]
  },
  {
   "cell_type": "markdown",
   "metadata": {},
   "source": [
    "Result:\n",
    "![caption](files/Q3.png)"
   ]
  },
  {
   "cell_type": "markdown",
   "metadata": {},
   "source": [
    "### Question 5\n",
    "“What hour of the day to people rent the most”:"
   ]
  },
  {
   "cell_type": "markdown",
   "metadata": {},
   "source": [
    "SQL Code:\n",
    "```SQL\n",
    "SELECT extract(hour FROM rental_date) AS rental_hour,\n",
    "       count(extract(hour FROM rental_date))\n",
    "FROM rental\n",
    "GROUP BY rental_hour\n",
    "ORDER BY 2 DESC;\n",
    "```"
   ]
  },
  {
   "cell_type": "markdown",
   "metadata": {},
   "source": [
    "Result:\n",
    "![caption](files/Q5.png)"
   ]
  },
  {
   "cell_type": "markdown",
   "metadata": {},
   "source": [
    "### Question 6\n",
    "“Which store is more profitable, assuming all movies cost $15 per inventory item to purchase”:"
   ]
  },
  {
   "cell_type": "markdown",
   "metadata": {},
   "source": [
    "SQL Code:\n",
    "```SQL\n",
    "SELECT a.store_id,a.cost,b.income,(b.income-a.cost) AS profit\n",
    "FROM(\n",
    "SELECT store.store_id, count(inventory.inventory_id)*15 As cost\n",
    "FROM inventory\n",
    "INNER JOIN store ON inventory.store_id = store.store_id\n",
    "GROUP BY store.store_id) as a\n",
    "INNER JOIN (SELECT store.store_id, SUM(payment.Amount) AS Income\n",
    "FROM payment\n",
    "INNER JOIN staff ON staff.staff_id = payment.staff_id\n",
    "INNer JOIN store ON staff.store_id = store.store_id\n",
    "GROUP BY store.store_id\n",
    ") as b\n",
    "ON a.store_id = b.store_id\n",
    "ORDER BY 4 DESC\n",
    "```"
   ]
  },
  {
   "cell_type": "markdown",
   "metadata": {},
   "source": [
    "Result:\n",
    "![caption](files/Q6.png)"
   ]
  }
 ],
 "metadata": {
  "kernelspec": {
   "display_name": "Python 2",
   "language": "python",
   "name": "python2"
  },
  "language_info": {
   "codemirror_mode": {
    "name": "ipython",
    "version": 2
   },
   "file_extension": ".py",
   "mimetype": "text/x-python",
   "name": "python",
   "nbconvert_exporter": "python",
   "pygments_lexer": "ipython2",
   "version": "2.7.13"
  }
 },
 "nbformat": 4,
 "nbformat_minor": 2
}
